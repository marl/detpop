{
 "cells": [
  {
   "cell_type": "code",
   "execution_count": 6,
   "metadata": {},
   "outputs": [
    {
     "name": "stdout",
     "output_type": "stream",
     "text": [
      "Orchset Track(track_id=Beethoven-S3-I-ex1, audio_path_stereo=/Users/vl238/mir_datasets/Orchset/audio/stereo/Beethoven-S3-I-ex1.wav, audio_path_mono=/Users/vl238/mir_datasets/Orchset/audio/mono/Beethoven-S3-I-ex1.wav, composer=None, work=None, excerpt=None, predominant_melodic_instruments=None, alternating_melody=None, contains_winds=None, contains_strings=None, contains_brass=None, only_strings=None, only_winds=None, only_brass=None, melody=F0Data('times', 'frequencies', 'confidence'))\n"
     ]
    },
    {
     "ename": "NameError",
     "evalue": "name 'orchset' is not defined",
     "output_type": "error",
     "traceback": [
      "\u001b[0;31m---------------------------------------------------------------------------\u001b[0m",
      "\u001b[0;31mNameError\u001b[0m                                 Traceback (most recent call last)",
      "\u001b[0;32m<ipython-input-6-9fe9704d87c7>\u001b[0m in \u001b[0;36m<module>\u001b[0;34m\u001b[0m\n\u001b[1;32m      6\u001b[0m \u001b[0mexample_track\u001b[0m \u001b[0;34m=\u001b[0m \u001b[0morchset_data\u001b[0m\u001b[0;34m[\u001b[0m\u001b[0morchset_ids\u001b[0m\u001b[0;34m[\u001b[0m\u001b[0;36m0\u001b[0m\u001b[0;34m]\u001b[0m\u001b[0;34m]\u001b[0m\u001b[0;34m\u001b[0m\u001b[0;34m\u001b[0m\u001b[0m\n\u001b[1;32m      7\u001b[0m \u001b[0mprint\u001b[0m\u001b[0;34m(\u001b[0m\u001b[0mexample_track\u001b[0m\u001b[0;34m)\u001b[0m\u001b[0;34m\u001b[0m\u001b[0;34m\u001b[0m\u001b[0m\n\u001b[0;32m----> 8\u001b[0;31m orchset.Track(\n\u001b[0m\u001b[1;32m      9\u001b[0m     \u001b[0mtrack_id\u001b[0m\u001b[0;34m=\u001b[0m\u001b[0;34m'Beethoven-S3-I-ex1'\u001b[0m\u001b[0;34m,\u001b[0m\u001b[0;34m\u001b[0m\u001b[0;34m\u001b[0m\u001b[0m\n\u001b[1;32m     10\u001b[0m     melody=F0Data(times=array([0.000e+00, 1.000e-02, 2.000e-02, ..., 1.244e+01, 1.245e+01, 1.246e+01]),\n",
      "\u001b[0;31mNameError\u001b[0m: name 'orchset' is not defined"
     ]
    }
   ],
   "source": [
    "import mirdata.orchset\n",
    "\n",
    "orchset_ids = mirdata.orchset.track_ids()\n",
    "orchset_data = mirdata.orchset.load()\n",
    "\n",
    "example_track = orchset_data[orchset_ids[0]]\n",
    "print(example_track)\n",
    "orchset.Track(\n",
    "    track_id='Beethoven-S3-I-ex1',\n",
    "    melody=F0Data(times=array([0.000e+00, 1.000e-02, 2.000e-02, ..., 1.244e+01, 1.245e+01, 1.246e+01]),\n",
    "                  frequencies=array([  0.   ,   0.   ,   0.   , ..., 391.995, 391.995, 391.995]),\n",
    "                  confidence=array([0, 0, 0, ..., 1, 1, 1])),\n",
    "    audio_path_mono='~/mir_datasets/Orchset/audio/mono/Beethoven-S3-I-ex1.wav',\n",
    "    audio_path_stereo='~/mir_datasets/Orchset/audio/stereo/Beethoven-S3-I-ex1.wav',\n",
    "    composer='Beethoven',\n",
    "    work='S3-I',\n",
    "    excerpt='1',\n",
    "    predominant_melodic_instruments=['winds', 'strings'],\n",
    "    alternating_melody=True,\n",
    "    contains_winds=True,\n",
    "    contains_strings=True,\n",
    "    contains_brass=False,\n",
    "    only_strings=False,\n",
    "    only_winds=False,\n",
    "    only_brass=False\n",
    ")"
   ]
  },
  {
   "cell_type": "code",
   "execution_count": null,
   "metadata": {},
   "outputs": [],
   "source": []
  }
 ],
 "metadata": {
  "kernelspec": {
   "display_name": "Python 3",
   "language": "python",
   "name": "python3"
  },
  "language_info": {
   "codemirror_mode": {
    "name": "ipython",
    "version": 3
   },
   "file_extension": ".py",
   "mimetype": "text/x-python",
   "name": "python",
   "nbconvert_exporter": "python",
   "pygments_lexer": "ipython3",
   "version": "3.7.5"
  }
 },
 "nbformat": 4,
 "nbformat_minor": 2
}
